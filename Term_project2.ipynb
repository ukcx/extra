{
  "cells": [
    {
      "cell_type": "markdown",
      "metadata": {
        "id": "C0pv2GAmuqfK"
      },
      "source": [
        "#CS 412 TERM PROJECT\n"
      ]
    },
    {
      "cell_type": "markdown",
      "metadata": {
        "id": "5P_iOMkau6jV"
      },
      "source": [
        "Group Members:<br><br>\n",
        "Cem Kaya<br>\n",
        "Selin Tokman<br>\n",
        "Uğur Kağan Çakır"
      ]
    },
    {
      "cell_type": "code",
      "execution_count": null,
      "metadata": {
        "colab": {
          "base_uri": "https://localhost:8080/"
        },
        "id": "VX_1EQQYgkYw",
        "outputId": "875de762-814d-4da3-860b-ccf5e927d1fb"
      },
      "outputs": [
        {
          "name": "stdout",
          "output_type": "stream",
          "text": [
            "Mounted at /content/drive/\n"
          ]
        }
      ],
      "source": [
        "#from google.colab import drive\n",
        "#drive.mount('/content/drive/') \n"
      ]
    },
    {
      "cell_type": "code",
      "execution_count": null,
      "metadata": {
        "colab": {
          "base_uri": "https://localhost:8080/"
        },
        "id": "070bUxIAgk3y",
        "outputId": "cb054721-8a48-48ac-8017-90f75fd53ca4"
      },
      "outputs": [
        {
          "name": "stdout",
          "output_type": "stream",
          "text": [
            "/content/drive/My Drive/Colab Notebooks\n"
          ]
        }
      ],
      "source": [
        "#cd drive/My\\ Drive/Colab\\ Notebooks"
      ]
    },
    {
      "cell_type": "markdown",
      "metadata": {
        "id": "Rl-rWmWqvPtZ"
      },
      "source": [
        "##Importing libraries needed"
      ]
    },
    {
      "cell_type": "code",
      "execution_count": 1,
      "metadata": {
        "colab": {
          "base_uri": "https://localhost:8080/"
        },
        "id": "hquhIQQhgeCn",
        "outputId": "8af38028-91e8-407f-accd-57ce596d2c8f"
      },
      "outputs": [
        {
          "data": {
            "text/plain": [
              "[PhysicalDevice(name='/physical_device:CPU:0', device_type='CPU'),\n",
              " PhysicalDevice(name='/physical_device:GPU:0', device_type='GPU')]"
            ]
          },
          "execution_count": 1,
          "metadata": {},
          "output_type": "execute_result"
        }
      ],
      "source": [
        "# import the necessary libraries\n",
        "import pandas as pd \n",
        "import numpy as np\n",
        "import matplotlib.pyplot as plt\n",
        "from PIL import Image\n",
        "from sklearn.model_selection import train_test_split\n",
        "import scipy.io as sio\n",
        "import keras\n",
        "from keras.preprocessing.image import ImageDataGenerator\n",
        "from keras.preprocessing import image\n",
        "import keras\n",
        "from keras.applications.vgg16 import VGG16\n",
        "from keras.preprocessing import image\n",
        "from keras.applications.vgg16 import preprocess_input\n",
        "from keras.layers import Input, Flatten, Dense\n",
        "from keras.models import Model, load_model\n",
        "#% matplotlib inline\n",
        "import cv2 as cv\n",
        "from sklearn.model_selection import train_test_split\n",
        "import os\n",
        "import pickle\n",
        "\n",
        "import tensorflow  as tf\n",
        "tf.config.list_physical_devices() # check local GPU (CEM)"
      ]
    },
    {
      "cell_type": "markdown",
      "metadata": {
        "id": "BrXJ_9_5vySk"
      },
      "source": [
        "##Loading Test and Training Data"
      ]
    },
    {
      "cell_type": "code",
      "execution_count": 2,
      "metadata": {
        "colab": {
          "base_uri": "https://localhost:8080/"
        },
        "id": "9mxK_c6zgeCs",
        "outputId": "2e58f31a-6299-42c3-c71f-9ff075c7e2ee"
      },
      "outputs": [
        {
          "name": "stdout",
          "output_type": "stream",
          "text": [
            "shape of all_images before fixing axes:  (32, 32, 3, 73257)\n",
            "shape of all_images_fixed:  (73257, 32, 32, 3)\n",
            "shape of labels:  (73257, 1)\n",
            "shape of all_test_images_fixed:  (26032, 32, 32, 3)\n"
          ]
        }
      ],
      "source": [
        "train_data = sio.loadmat('train_32x32.mat')\n",
        "test_data = sio.loadmat('testimgs_32x32.mat')\n",
        "\n",
        "# access to the dict\n",
        "all_images = np.array(train_data['X'] )\n",
        "all_labels = np.array(train_data['y'] )\n",
        "\n",
        "all_test_images = np.array(test_data['X'] )\n",
        "\n",
        "# show sample\n",
        "\n",
        "\n",
        "#print( all_labels[image_ind] ) \n",
        "print( \"shape of all_images before fixing axes: \" , all_images.shape )\n",
        "#fix file formet ?why .mat google ????\n",
        "all_test_images_fix = np.moveaxis(all_test_images, -1, 0) #MAGIC 2\n",
        "\n",
        "all_images_fixed = np.moveaxis(all_images, -1, 0) #MAGIC \n",
        "print( \"shape of all_images_fixed: \" , all_images_fixed.shape )\n",
        "print(\"shape of labels: \", all_labels.shape)\n",
        "\n",
        "print( \"shape of all_test_images_fixed: \" , all_test_images_fix.shape )\n",
        "#print(test_data)"
      ]
    },
    {
      "cell_type": "markdown",
      "metadata": {
        "id": "Behz97QOwGyz"
      },
      "source": [
        "##Preprocessing\n"
      ]
    },
    {
      "cell_type": "markdown",
      "metadata": {
        "id": "kGNx2_gjwIzj"
      },
      "source": [
        "###We added more data by rotating our existing images, in order to our models to learn more"
      ]
    },
    {
      "cell_type": "code",
      "execution_count": 3,
      "metadata": {
        "colab": {
          "base_uri": "https://localhost:8080/",
          "height": 266
        },
        "id": "7OeLNAj_geCu",
        "outputId": "340d589b-cc09-4462-86c0-cc35e9599fa0"
      },
      "outputs": [
        {
          "data": {
            "image/png": "[encoded data removed]",
            "text/plain": [
              "<Figure size 432x288 with 1 Axes>"
            ]
          },
          "metadata": {
            "needs_background": "light"
          },
          "output_type": "display_data"
        }
      ],
      "source": [
        "#np.rot90()\n",
        "rotated_images = np.flip(all_images_fixed.swapaxes(1,2), axis = 2)\n",
        "rotated_images2 = np.flip(rotated_images.swapaxes(1,2), axis = 2)\n",
        "rotated_images3 = np.flip(rotated_images2.swapaxes(1,2), axis = 2)\n",
        "# Too much rotation \n",
        "\n",
        "plt.imshow(rotated_images[1])\n",
        "plt.show()"
      ]
    },
    {
      "cell_type": "markdown",
      "metadata": {
        "id": "5p7uezNlwl9J"
      },
      "source": [
        "####We rotated our models by 90, 180, and 270 degrees<br>Then added all images in a different numpy array called all_images_fixed_and_rotated"
      ]
    },
    {
      "cell_type": "code",
      "execution_count": 4,
      "metadata": {
        "colab": {
          "base_uri": "https://localhost:8080/"
        },
        "id": "KumpIaX2geCv",
        "outputId": "d46a15a8-f220-4b7b-ca3a-38c97adf5b2f"
      },
      "outputs": [
        {
          "name": "stdout",
          "output_type": "stream",
          "text": [
            "all_images_fixed (73257, 32, 32, 3)\n",
            "rotated_images (73257, 32, 32, 3)\n",
            "rotated_images2 (73257, 32, 32, 3)\n",
            "rotated_images3 (73257, 32, 32, 3)\n",
            "all_images_fixed_and_rotated (293028, 32, 32, 3)\n"
          ]
        }
      ],
      "source": [
        "print(\"all_images_fixed\" ,all_images_fixed.shape )\n",
        "print(\"rotated_images\" ,rotated_images.shape )\n",
        "print(\"rotated_images2\" ,rotated_images2.shape )\n",
        "print(\"rotated_images3\" ,rotated_images3.shape )\n",
        "\n",
        "#aa = np.zeros(rotated_images.shape, rotated_images.dtype)\n",
        "\n",
        "#all_images_fixed = all_images_fixed + rotated_images\n",
        "\n",
        "tmp=[]\n",
        "for i in  all_images_fixed:\n",
        "    tmp.append(i)\n",
        "for i in  rotated_images:\n",
        "    tmp.append(i)\n",
        "for i in  rotated_images2:\n",
        "    tmp.append(i)\n",
        "for i in  rotated_images3:\n",
        "    tmp.append(i)\n",
        "all_images_fixed_and_rotated = np.array(tmp)\n",
        "print(\"all_images_fixed_and_rotated\" ,all_images_fixed_and_rotated.shape )"
      ]
    },
    {
      "cell_type": "markdown",
      "metadata": {
        "id": "sKGSORkKw2Jw"
      },
      "source": [
        "##Using thresholding to enhance image quality"
      ]
    },
    {
      "cell_type": "code",
      "execution_count": 5,
      "metadata": {
        "colab": {
          "base_uri": "https://localhost:8080/",
          "height": 285
        },
        "id": "xCOmI4d_geCw",
        "outputId": "ec2305a5-ca1d-4f2d-962f-c0367cd2188c"
      },
      "outputs": [
        {
          "data": {
            "image/png": "[encoded data removed]",
            "text/plain": [
              "<Figure size 432x288 with 4 Axes>"
            ]
          },
          "metadata": {},
          "output_type": "display_data"
        },
        {
          "data": {
            "text/plain": [
              "<Figure size 432x288 with 0 Axes>"
            ]
          },
          "metadata": {},
          "output_type": "display_data"
        }
      ],
      "source": [
        "def rgb2gray(rgb):\n",
        "    return np.dot(rgb[...,:3], [0.299, 0.587, 0.144]).astype('uint8')\n",
        "def r2gray(rgb):\n",
        "    return cv.split(rgb)\n",
        "     \n",
        "def gray2rgb(r,g,b):\n",
        "    return cv.merge([r,g,b])\n",
        "    \n",
        "#pre processing \n",
        "#wrong data type or memory layout !!!!!!!!!!!!!!!!!!!\n",
        "img_b, img_g, img_r = r2gray(all_images_fixed_and_rotated[11024])\n",
        "\n",
        "img_b = cv.medianBlur(img_b,5)\n",
        "ret_b,th1_b = cv.threshold(img_b,90 ,255,cv.THRESH_BINARY)\n",
        "th2_b = cv.adaptiveThreshold(img_b,255,cv.ADAPTIVE_THRESH_MEAN_C, cv.THRESH_BINARY,11,2)      #nparray.dtype == uint8 & grayscale image\n",
        "th3_b = cv.adaptiveThreshold(img_b,255,cv.ADAPTIVE_THRESH_GAUSSIAN_C, cv.THRESH_BINARY,11,2)\n",
        "\n",
        "img_g = cv.medianBlur(img_g,5)\n",
        "ret_g, th1_g = cv.threshold(img_g,90 ,255,cv.THRESH_BINARY)\n",
        "th2_g = cv.adaptiveThreshold(img_g,255,cv.ADAPTIVE_THRESH_MEAN_C, cv.THRESH_BINARY,11,2)      #nparray.dtype == uint8 & grayscale image\n",
        "th3_g = cv.adaptiveThreshold(img_g,255,cv.ADAPTIVE_THRESH_GAUSSIAN_C, cv.THRESH_BINARY,11,2)\n",
        "\n",
        "img_r = cv.medianBlur(img_r,5)\n",
        "ret_r, th1_r = cv.threshold(img_r,90 ,255,cv.THRESH_BINARY)\n",
        "th2_r = cv.adaptiveThreshold(img_r,255,cv.ADAPTIVE_THRESH_MEAN_C, cv.THRESH_BINARY,11,2)      \n",
        "th3_r = cv.adaptiveThreshold(img_r,255,cv.ADAPTIVE_THRESH_GAUSSIAN_C, cv.THRESH_BINARY,11,2)    #nparray.dtype == uint8 & grayscale image\n",
        "\n",
        "th1= gray2rgb(th1_b,th1_g,th1_r)\n",
        "th2= gray2rgb(th2_b,th2_g,th2_r)\n",
        "th3= gray2rgb(th3_b,th3_g,th3_r)\n",
        "\n",
        "titles = ['Original Image', 'Global Thresholding (v = 127)',\n",
        "            'Adaptive Mean Thresholding', 'Adaptive Gaussian Thresholding']\n",
        "images = [all_images_fixed_and_rotated[11024], th1, th2, th3]\n",
        "for i in range(4):\n",
        "    plt.subplot(2,2,i+1),plt.imshow(images[i],'gray');\n",
        "    plt.title(titles[i]);\n",
        "    plt.xticks([]),plt.yticks([]);\n",
        "plt.show();\n",
        "plt.savefig(fname=\"a\");"
      ]
    },
    {
      "cell_type": "markdown",
      "metadata": {
        "id": "8AlWS6YKx_jS"
      },
      "source": [
        "####Our cleaned images had the correct size"
      ]
    },
    {
      "cell_type": "code",
      "execution_count": 6,
      "metadata": {
        "colab": {
          "base_uri": "https://localhost:8080/"
        },
        "id": "Ex57NuHcgeCy",
        "outputId": "4b3f38f1-ccea-4b60-bce0-9fce8306c006"
      },
      "outputs": [
        {
          "name": "stdout",
          "output_type": "stream",
          "text": [
            "(32, 32, 3)\n"
          ]
        }
      ],
      "source": [
        "print(th3.shape)"
      ]
    },
    {
      "cell_type": "markdown",
      "metadata": {
        "id": "2VVTCQwAyEgW"
      },
      "source": [
        "####Image cleaning function"
      ]
    },
    {
      "cell_type": "code",
      "execution_count": 8,
      "metadata": {
        "id": "Ywx96AmygeCz"
      },
      "outputs": [],
      "source": [
        "def img_clean(img):\n",
        "    img_b, img_g, img_r = r2gray(img)\n",
        "\n",
        "    img_b = cv.medianBlur(img_b,5)\n",
        "    th_b = cv.adaptiveThreshold(img_b,255,cv.ADAPTIVE_THRESH_GAUSSIAN_C, cv.THRESH_BINARY,11,2)\n",
        "\n",
        "    img_g = cv.medianBlur(img_g,5)\n",
        "    th_g = cv.adaptiveThreshold(img_g,255,cv.ADAPTIVE_THRESH_GAUSSIAN_C, cv.THRESH_BINARY,11,2)\n",
        "\n",
        "    img_r = cv.medianBlur(img_r,5)\n",
        "    th_r = cv.adaptiveThreshold(img_r,255,cv.ADAPTIVE_THRESH_GAUSSIAN_C, cv.THRESH_BINARY,11,2)    #nparray.dtype == uint8 & grayscale image\n",
        "\n",
        "    return gray2rgb(th_b,th_g,th_r)\n",
        "\n",
        "   "
      ]
    },
    {
      "cell_type": "markdown",
      "metadata": {
        "id": "ThL8wlfHyHs7"
      },
      "source": [
        "####An example of an image after it gets cleaned:"
      ]
    },
    {
      "cell_type": "code",
      "execution_count": 9,
      "metadata": {
        "colab": {
          "base_uri": "https://localhost:8080/",
          "height": 266
        },
        "id": "OLCOiNjEgeC0",
        "outputId": "512283fe-79d1-4dac-fb7d-9ddf756050f1"
      },
      "outputs": [
        {
          "data": {
            "image/png": "[encoded data removed]",
            "text/plain": [
              "<Figure size 432x288 with 1 Axes>"
            ]
          },
          "metadata": {
            "needs_background": "light"
          },
          "output_type": "display_data"
        }
      ],
      "source": [
        "plt.imshow(img_clean(all_images_fixed[0]))\n",
        "plt.show()"
      ]
    },
    {
      "cell_type": "markdown",
      "metadata": {
        "id": "6IakcQkuycgq"
      },
      "source": [
        "####Normal image:"
      ]
    },
    {
      "cell_type": "code",
      "execution_count": 10,
      "metadata": {
        "colab": {
          "base_uri": "https://localhost:8080/",
          "height": 266
        },
        "id": "upPzEBGmgeC1",
        "outputId": "2a57b823-4b21-49e0-b8bf-9677b4e10ae1"
      },
      "outputs": [
        {
          "data": {
            "image/png": "[encoded data removed]",
            "text/plain": [
              "<Figure size 432x288 with 1 Axes>"
            ]
          },
          "metadata": {
            "needs_background": "light"
          },
          "output_type": "display_data"
        }
      ],
      "source": [
        "plt.imshow(all_images_fixed[0])\n",
        "plt.show()"
      ]
    },
    {
      "cell_type": "markdown",
      "metadata": {
        "id": "TkS_BpikylEF"
      },
      "source": [
        "####We apply image cleaning to both test and training data & store resulting arrays in seperate numpy arrays"
      ]
    },
    {
      "cell_type": "code",
      "execution_count": 11,
      "metadata": {
        "id": "dVoj6pGhgeC2"
      },
      "outputs": [],
      "source": [
        "tmp=[]\n",
        "for i in all_test_images_fix:\n",
        "    tmp.append( img_clean(i))\n",
        "all_test_images_fix2 = tmp\n",
        "all_test_images_fix2 = np.array(all_test_images_fix2)"
      ]
    },
    {
      "cell_type": "code",
      "execution_count": 12,
      "metadata": {
        "id": "MiLtha1ngeC2"
      },
      "outputs": [],
      "source": [
        "tmp=[]\n",
        "for i in all_images_fixed:\n",
        "    tmp.append( img_clean(i))\n",
        "all_images_fixed2 = tmp\n",
        "all_images_fixed2=np.array(all_images_fixed2)"
      ]
    },
    {
      "cell_type": "code",
      "execution_count": 13,
      "metadata": {
        "colab": {
          "base_uri": "https://localhost:8080/"
        },
        "id": "swUtyz7ygeC3",
        "outputId": "e88550e0-cff2-4245-be73-99045293c645"
      },
      "outputs": [
        {
          "data": {
            "text/plain": [
              "(73257, 32, 32, 3)"
            ]
          },
          "execution_count": 13,
          "metadata": {},
          "output_type": "execute_result"
        }
      ],
      "source": [
        "all_images_fixed2.shape"
      ]
    },
    {
      "cell_type": "markdown",
      "metadata": {
        "id": "aFg3VdTsy12Z"
      },
      "source": [
        "####Adding One Hot Encoding for our labels"
      ]
    },
    {
      "cell_type": "code",
      "execution_count": 14,
      "metadata": {
        "colab": {
          "base_uri": "https://localhost:8080/"
        },
        "id": "-W2-uTtXgeC3",
        "outputId": "b4fdbb66-41b3-4ec5-a580-ed5f5cdaba02"
      },
      "outputs": [
        {
          "name": "stdout",
          "output_type": "stream",
          "text": [
            "[[1]\n",
            " [9]\n",
            " [2]\n",
            " ...\n",
            " [1]\n",
            " [6]\n",
            " [9]]\n",
            "[0 0 1 0 0 0 0 0 0 0]\n"
          ]
        }
      ],
      "source": [
        "# One HOT encode\n",
        "print(all_labels)\n",
        "all_labels_fixed=[]\n",
        "for label in all_labels:\n",
        "    tmp=[0]*10    \n",
        "    label_num = label[0]\n",
        "    label_num = label_num if  label_num < 10 else 0\n",
        "    tmp[label_num  ]=1\n",
        "    all_labels_fixed.append(   tmp  )\n",
        "\n",
        "all_labels_fixed = np.array(all_labels_fixed)\n",
        "print(all_labels_fixed[2])"
      ]
    },
    {
      "cell_type": "code",
      "execution_count": 15,
      "metadata": {
        "colab": {
          "base_uri": "https://localhost:8080/",
          "height": 266
        },
        "id": "OBFmPVgegeC4",
        "outputId": "ca51b3f3-81bb-4219-a289-34a2975983e9"
      },
      "outputs": [
        {
          "data": {
            "image/png": "[encoded data removed]",
            "text/plain": [
              "<Figure size 432x288 with 1 Axes>"
            ]
          },
          "metadata": {
            "needs_background": "light"
          },
          "output_type": "display_data"
        }
      ],
      "source": [
        "plt.imshow(all_images_fixed[1,:,:,:])\n",
        "plt.show()"
      ]
    },
    {
      "cell_type": "markdown",
      "metadata": {
        "id": "vgtBw836z2Rf"
      },
      "source": [
        "####Adjusting the labels for the rotated images"
      ]
    },
    {
      "cell_type": "code",
      "execution_count": 16,
      "metadata": {
        "id": "4-pNqxdVgeC4"
      },
      "outputs": [],
      "source": [
        "tmp=[]\n",
        "for i in range(4):\n",
        "    for j in all_labels_fixed:\n",
        "        tmp.append(j)\n",
        "all_labels_fixed2_and_rotated = np.array(tmp)        "
      ]
    },
    {
      "cell_type": "code",
      "execution_count": 17,
      "metadata": {
        "colab": {
          "base_uri": "https://localhost:8080/"
        },
        "id": "Y_VZ6sJOkgHH",
        "outputId": "810378d8-d906-4920-883a-d1df0f38b7ce"
      },
      "outputs": [
        {
          "data": {
            "text/plain": [
              "(293028, 10)"
            ]
          },
          "execution_count": 17,
          "metadata": {},
          "output_type": "execute_result"
        }
      ],
      "source": [
        "all_labels_fixed2_and_rotated.shape"
      ]
    },
    {
      "cell_type": "markdown",
      "metadata": {
        "id": "O1KcGOdH0HAW"
      },
      "source": [
        "##Model Training"
      ]
    },
    {
      "cell_type": "markdown",
      "metadata": {
        "id": "3i5Pz5D30L6r"
      },
      "source": [
        "###Splitting training and validation data"
      ]
    },
    {
      "cell_type": "code",
      "execution_count": 18,
      "metadata": {
        "colab": {
          "base_uri": "https://localhost:8080/"
        },
        "id": "WYOOpLRbgeC5",
        "outputId": "beb97b61-a68c-433b-b0ea-647fedebf0da"
      },
      "outputs": [
        {
          "name": "stdout",
          "output_type": "stream",
          "text": [
            "x_train.shape: (65931, 32, 32, 3)\n",
            "x_train2.shape: (65931, 32, 32, 3)\n",
            "x_train3.shape: (263725, 32, 32, 3)\n"
          ]
        }
      ],
      "source": [
        "x_train,x_val,y_train,y_val = train_test_split(  all_images_fixed , all_labels_fixed ,test_size=0.1,random_state=42)\n",
        "x_train2,x_val2,y_train2,y_val2 = train_test_split(  all_images_fixed2 , all_labels_fixed  ,test_size=0.1,random_state=42)\n",
        "x_train3,x_val3,y_train3,y_val3 = train_test_split(  all_images_fixed_and_rotated , all_labels_fixed2_and_rotated  ,test_size=0.1,random_state=42)\n",
        "print(\"x_train.shape:\",x_train.shape)\n",
        "print(\"x_train2.shape:\",x_train2.shape)\n",
        "print(\"x_train3.shape:\",x_train3.shape)"
      ]
    },
    {
      "cell_type": "markdown",
      "metadata": {
        "id": "LXtWaLm_0VUr"
      },
      "source": [
        "###VGG16"
      ]
    },
    {
      "cell_type": "code",
      "execution_count": 19,
      "metadata": {},
      "outputs": [],
      "source": [
        "augmenter = ImageDataGenerator(rotation_range=12 ,   zoom_range=[0.90, 1.10], height_shift_range=0.25,  shear_range=0.15)"
      ]
    },
    {
      "cell_type": "code",
      "execution_count": 20,
      "metadata": {
        "colab": {
          "base_uri": "https://localhost:8080/"
        },
        "id": "a3LQHnMpgeC6",
        "outputId": "17b2af42-3d17-40f3-b775-ed2131848d57"
      },
      "outputs": [
        {
          "name": "stdout",
          "output_type": "stream",
          "text": [
            "VGG 16 \n",
            "(32, 32, 3)\n"
          ]
        }
      ],
      "source": [
        "# Train your own model with your own choice of parameters, and pretrained model \n",
        "img_shape_sv =  (32, 32, 3)\n",
        "print(\"VGG 16 \")\n",
        "print(img_shape_sv)\n",
        "model_vgg_conv = VGG16(weights='imagenet', include_top=False, input_shape=img_shape_sv  )\n",
        "#model_vgg_conv.summary()\n",
        "for layer in model_vgg_conv.layers:\n",
        "   layer.trainable = True\n",
        " \n",
        "\n",
        "#Create your own input format\n",
        "keras_input = Input(shape=img_shape_sv, name = 'image_input')\n",
        "\n",
        "#Use the generated model\n",
        "output_vgg_conv = model_vgg_conv(keras_input)\n",
        "\n",
        "# Add 3 fully-connected layers \n",
        "My_vgg = Flatten(name='flatten')(output_vgg_conv)\n",
        "My_vgg = Dense(512 , activation='relu', name='fc0')(My_vgg)\n",
        "My_vgg = Dense(128 , activation='relu', name='fc2')(My_vgg)\n",
        "My_vgg = Dense(64 ,activation='relu', name='fc3')(My_vgg)\n",
        "My_vgg = Dense(10, activation='softmax' , name='predictions')(My_vgg)"
      ]
    },
    {
      "cell_type": "markdown",
      "metadata": {
        "id": "QSzUUxVq0dk2"
      },
      "source": [
        "###We trained our model with the normal, thresholded, and rotated images"
      ]
    },
    {
      "cell_type": "markdown",
      "metadata": {
        "id": "jkdeTtHkc7SQ"
      },
      "source": [
        "####On normal images"
      ]
    },
    {
      "cell_type": "code",
      "execution_count": 21,
      "metadata": {
        "colab": {
          "base_uri": "https://localhost:8080/"
        },
        "id": "UzWLw0y0tZeR",
        "outputId": "2fe132d6-d3de-4bbb-d88d-3b00bd1e8a75"
      },
      "outputs": [
        {
          "name": "stdout",
          "output_type": "stream",
          "text": [
            "Epoch 1/20\n",
            "1030/1030 [==============================] - 45s 42ms/step - loss: 2.2656 - accuracy: 0.1868 - categorical_crossentropy: 2.2656 - val_loss: 2.2400 - val_accuracy: 0.1994 - val_categorical_crossentropy: 2.2400\n",
            "Epoch 2/20\n",
            "1030/1030 [==============================] - 40s 38ms/step - loss: 1.7035 - accuracy: 0.4030 - categorical_crossentropy: 1.7035 - val_loss: 0.8665 - val_accuracy: 0.7472 - val_categorical_crossentropy: 0.8665\n",
            "Epoch 3/20\n",
            "1030/1030 [==============================] - 39s 37ms/step - loss: 0.7228 - accuracy: 0.7886 - categorical_crossentropy: 0.7228 - val_loss: 0.5074 - val_accuracy: 0.8561 - val_categorical_crossentropy: 0.5074\n",
            "Epoch 4/20\n",
            "1030/1030 [==============================] - 39s 38ms/step - loss: 0.5169 - accuracy: 0.8534 - categorical_crossentropy: 0.5169 - val_loss: 0.4534 - val_accuracy: 0.8666 - val_categorical_crossentropy: 0.4534\n",
            "Epoch 5/20\n",
            "1030/1030 [==============================] - 40s 38ms/step - loss: 0.4575 - accuracy: 0.8717 - categorical_crossentropy: 0.4575 - val_loss: 0.3317 - val_accuracy: 0.9087 - val_categorical_crossentropy: 0.3317\n",
            "Epoch 6/20\n",
            "1030/1030 [==============================] - 39s 38ms/step - loss: 0.4334 - accuracy: 0.8798 - categorical_crossentropy: 0.4334 - val_loss: 0.3328 - val_accuracy: 0.9128 - val_categorical_crossentropy: 0.3328\n",
            "Epoch 7/20\n",
            "1030/1030 [==============================] - 39s 38ms/step - loss: 0.3986 - accuracy: 0.8891 - categorical_crossentropy: 0.3986 - val_loss: 0.2992 - val_accuracy: 0.9204 - val_categorical_crossentropy: 0.2992\n",
            "Epoch 8/20\n",
            "1030/1030 [==============================] - 39s 38ms/step - loss: 0.3928 - accuracy: 0.8916 - categorical_crossentropy: 0.3928 - val_loss: 0.3362 - val_accuracy: 0.9107 - val_categorical_crossentropy: 0.3362\n",
            "Epoch 9/20\n",
            "1030/1030 [==============================] - 39s 38ms/step - loss: 0.3835 - accuracy: 0.8949 - categorical_crossentropy: 0.3835 - val_loss: 0.2876 - val_accuracy: 0.9234 - val_categorical_crossentropy: 0.2876\n",
            "Epoch 10/20\n",
            "1030/1030 [==============================] - 40s 39ms/step - loss: 0.3711 - accuracy: 0.8989 - categorical_crossentropy: 0.3711 - val_loss: 0.3081 - val_accuracy: 0.9219 - val_categorical_crossentropy: 0.3081\n",
            "Epoch 11/20\n",
            "1030/1030 [==============================] - 43s 42ms/step - loss: 0.3570 - accuracy: 0.9025 - categorical_crossentropy: 0.3570 - val_loss: 0.2926 - val_accuracy: 0.9233 - val_categorical_crossentropy: 0.2926\n",
            "Epoch 12/20\n",
            "1030/1030 [==============================] - 43s 42ms/step - loss: 0.3610 - accuracy: 0.9037 - categorical_crossentropy: 0.3610 - val_loss: 0.2964 - val_accuracy: 0.9218 - val_categorical_crossentropy: 0.2964\n",
            "Epoch 13/20\n",
            "1030/1030 [==============================] - 43s 42ms/step - loss: 0.3419 - accuracy: 0.9068 - categorical_crossentropy: 0.3419 - val_loss: 0.3821 - val_accuracy: 0.8979 - val_categorical_crossentropy: 0.3821\n",
            "Epoch 14/20\n",
            "1030/1030 [==============================] - 44s 43ms/step - loss: 0.3373 - accuracy: 0.9086 - categorical_crossentropy: 0.3373 - val_loss: 0.2718 - val_accuracy: 0.9309 - val_categorical_crossentropy: 0.2718\n",
            "Epoch 15/20\n",
            "1030/1030 [==============================] - 43s 42ms/step - loss: 0.3456 - accuracy: 0.9072 - categorical_crossentropy: 0.3456 - val_loss: 0.2943 - val_accuracy: 0.9290 - val_categorical_crossentropy: 0.2943\n",
            "Epoch 16/20\n",
            "1030/1030 [==============================] - 43s 42ms/step - loss: 0.3255 - accuracy: 0.9120 - categorical_crossentropy: 0.3255 - val_loss: 0.2801 - val_accuracy: 0.9317 - val_categorical_crossentropy: 0.2801\n",
            "Epoch 17/20\n",
            "1030/1030 [==============================] - 40s 38ms/step - loss: 0.3165 - accuracy: 0.9138 - categorical_crossentropy: 0.3165 - val_loss: 0.2855 - val_accuracy: 0.9263 - val_categorical_crossentropy: 0.2855\n",
            "Epoch 18/20\n",
            "1030/1030 [==============================] - 41s 39ms/step - loss: 0.3208 - accuracy: 0.9146 - categorical_crossentropy: 0.3208 - val_loss: 0.2586 - val_accuracy: 0.9331 - val_categorical_crossentropy: 0.2586\n",
            "Epoch 19/20\n",
            "1030/1030 [==============================] - 43s 41ms/step - loss: 0.3135 - accuracy: 0.9155 - categorical_crossentropy: 0.3135 - val_loss: 0.2631 - val_accuracy: 0.9363 - val_categorical_crossentropy: 0.2631\n",
            "Epoch 20/20\n",
            "1030/1030 [==============================] - 43s 41ms/step - loss: 0.3119 - accuracy: 0.9178 - categorical_crossentropy: 0.3119 - val_loss: 0.2592 - val_accuracy: 0.9339 - val_categorical_crossentropy: 0.2592\n",
            "229/229 [==============================] - 2s 9ms/step - loss: 0.2592 - accuracy: 0.9339 - categorical_crossentropy: 0.2592\n",
            "Accuracy on val set:  0.9339339137077332\n"
          ]
        }
      ],
      "source": [
        "#Create your own modelg\n",
        "pretrained_model1 = Model(inputs=keras_input, outputs=My_vgg)\n",
        "pretrained_model1.compile(loss='categorical_crossentropy', optimizer='adam', metrics=['accuracy', \"categorical_crossentropy\" ])\n",
        "\n",
        "# Train the model using own data  x_train,x_val,y_train,y_val \n",
        "#history1 = pretrained_model1.fit(x_train, y_train  ,batch_size=64 , epochs=16 ,validation_split = 0.125 )\n",
        "H = pretrained_model1.fit(augmenter.flow(x_train, y_train, batch_size=64),validation_data=(x_val, y_val), steps_per_epoch=len(x_train) // 64, epochs=20)\n",
        "\n",
        "# Evaluate the model\n",
        "score = pretrained_model1.evaluate(x_val, y_val)\n",
        "print(\"Accuracy on val set: \", score[1])\n",
        "\n",
        "# save the model to disk\n",
        "filename = 'pretrained_model1.sav'\n",
        "#pickle.dump(pretrained_model1, open(filename, 'wb'))"
      ]
    },
    {
      "cell_type": "markdown",
      "metadata": {
        "id": "gB8kHjanclRh"
      },
      "source": [
        "#####Tested accuracy on both normal and thresholded images. Since we can also threshold test images without knowing their labels beforehand."
      ]
    },
    {
      "cell_type": "code",
      "execution_count": null,
      "metadata": {
        "colab": {
          "base_uri": "https://localhost:8080/"
        },
        "id": "VxPJBWD1aJR-",
        "outputId": "450c0259-ceb5-452a-bd52-895ffa9c91a3"
      },
      "outputs": [
        {
          "name": "stdout",
          "output_type": "stream",
          "text": [
            "229/229 [==============================] - 5s 21ms/step - loss: 1.0391 - accuracy: 0.7518 - categorical_crossentropy: 1.0391\n",
            "Accuracy on val set that is thresholded:  0.751842737197876\n"
          ]
        }
      ],
      "source": [
        "pretrained_model1 = pickle.load(open('pretrained_model1.sav', 'rb'))\n",
        "score = pretrained_model1.evaluate(x_val2, y_val2)\n",
        "print(\"Accuracy on val set that is thresholded: \", score[1])"
      ]
    },
    {
      "cell_type": "markdown",
      "metadata": {
        "id": "EFz06iK9dEsg"
      },
      "source": [
        "####On thresholded images"
      ]
    },
    {
      "cell_type": "code",
      "execution_count": null,
      "metadata": {
        "colab": {
          "base_uri": "https://localhost:8080/"
        },
        "id": "zrEB5GH-tajX",
        "outputId": "f44d361a-21d2-4e7f-c8bd-8a2918c8eb3d"
      },
      "outputs": [
        {
          "name": "stdout",
          "output_type": "stream",
          "text": [
            "Epoch 1/16\n",
            "902/902 [==============================] - 75s 82ms/step - loss: 0.5481 - accuracy: 0.8487 - categorical_crossentropy: 0.5481 - val_loss: 0.5544 - val_accuracy: 0.8556 - val_categorical_crossentropy: 0.5544\n",
            "Epoch 2/16\n",
            "902/902 [==============================] - 73s 81ms/step - loss: 0.4671 - accuracy: 0.8732 - categorical_crossentropy: 0.4671 - val_loss: 1.2311 - val_accuracy: 0.7895 - val_categorical_crossentropy: 1.2311\n",
            "Epoch 3/16\n",
            "902/902 [==============================] - 73s 81ms/step - loss: 0.5187 - accuracy: 0.8590 - categorical_crossentropy: 0.5187 - val_loss: 0.4767 - val_accuracy: 0.8726 - val_categorical_crossentropy: 0.4767\n",
            "Epoch 4/16\n",
            "902/902 [==============================] - 74s 82ms/step - loss: 0.3596 - accuracy: 0.9013 - categorical_crossentropy: 0.3596 - val_loss: 0.4622 - val_accuracy: 0.8806 - val_categorical_crossentropy: 0.4622\n",
            "Epoch 5/16\n",
            "902/902 [==============================] - 74s 82ms/step - loss: 0.3235 - accuracy: 0.9117 - categorical_crossentropy: 0.3235 - val_loss: 0.4677 - val_accuracy: 0.8761 - val_categorical_crossentropy: 0.4677\n",
            "Epoch 6/16\n",
            "902/902 [==============================] - 74s 82ms/step - loss: 0.3048 - accuracy: 0.9149 - categorical_crossentropy: 0.3048 - val_loss: 0.4751 - val_accuracy: 0.8790 - val_categorical_crossentropy: 0.4751\n",
            "Epoch 7/16\n",
            "902/902 [==============================] - 74s 82ms/step - loss: 0.2742 - accuracy: 0.9246 - categorical_crossentropy: 0.2742 - val_loss: 0.5077 - val_accuracy: 0.8796 - val_categorical_crossentropy: 0.5077\n",
            "Epoch 8/16\n",
            "902/902 [==============================] - 74s 82ms/step - loss: 0.2580 - accuracy: 0.9302 - categorical_crossentropy: 0.2580 - val_loss: 0.4990 - val_accuracy: 0.8620 - val_categorical_crossentropy: 0.4990\n",
            "Epoch 9/16\n",
            "902/902 [==============================] - 76s 84ms/step - loss: 0.2498 - accuracy: 0.9319 - categorical_crossentropy: 0.2498 - val_loss: 0.4886 - val_accuracy: 0.8800 - val_categorical_crossentropy: 0.4886\n",
            "Epoch 10/16\n",
            "902/902 [==============================] - 76s 84ms/step - loss: 0.2342 - accuracy: 0.9366 - categorical_crossentropy: 0.2342 - val_loss: 0.5649 - val_accuracy: 0.8807 - val_categorical_crossentropy: 0.5649\n",
            "Epoch 11/16\n",
            "902/902 [==============================] - 74s 82ms/step - loss: 0.2169 - accuracy: 0.9415 - categorical_crossentropy: 0.2169 - val_loss: 0.5006 - val_accuracy: 0.8818 - val_categorical_crossentropy: 0.5006\n",
            "Epoch 12/16\n",
            "902/902 [==============================] - 74s 82ms/step - loss: 0.2406 - accuracy: 0.9361 - categorical_crossentropy: 0.2406 - val_loss: 0.4877 - val_accuracy: 0.8816 - val_categorical_crossentropy: 0.4877\n",
            "Epoch 13/16\n",
            "902/902 [==============================] - 74s 82ms/step - loss: 0.2121 - accuracy: 0.9439 - categorical_crossentropy: 0.2121 - val_loss: 0.5207 - val_accuracy: 0.8818 - val_categorical_crossentropy: 0.5207\n",
            "Epoch 14/16\n",
            "902/902 [==============================] - 73s 81ms/step - loss: 0.2049 - accuracy: 0.9462 - categorical_crossentropy: 0.2049 - val_loss: 0.5460 - val_accuracy: 0.8613 - val_categorical_crossentropy: 0.5460\n",
            "Epoch 15/16\n",
            "902/902 [==============================] - 73s 81ms/step - loss: 0.2071 - accuracy: 0.9443 - categorical_crossentropy: 0.2071 - val_loss: 0.6108 - val_accuracy: 0.8849 - val_categorical_crossentropy: 0.6108\n",
            "Epoch 16/16\n",
            "902/902 [==============================] - 73s 81ms/step - loss: 0.2348 - accuracy: 0.9391 - categorical_crossentropy: 0.2348 - val_loss: 0.5261 - val_accuracy: 0.8762 - val_categorical_crossentropy: 0.5261\n",
            "229/229 [==============================] - 5s 20ms/step - loss: 0.4920 - accuracy: 0.8804 - categorical_crossentropy: 0.4920\n",
            "Accuracy on val set:  0.8804258704185486\n",
            "INFO:tensorflow:Assets written to: ram://b49272f1-7921-486f-ac05-b7b0a54041a7/assets\n"
          ]
        }
      ],
      "source": [
        "#Create your own modelg\n",
        "pretrained_model1_2 = Model(inputs=keras_input, outputs=My_vgg)\n",
        "pretrained_model1_2.compile(loss='categorical_crossentropy', optimizer='adam', metrics=['accuracy', \"categorical_crossentropy\" ])\n",
        "\n",
        "# Train the model using own data  x_train2,x_val2,y_train2,y_val2 \n",
        "history1 = pretrained_model1_2.fit(x_train2, y_train2  ,batch_size=64 , epochs=16 ,validation_split = 0.125 )\n",
        "\n",
        "# Evaluate the model\n",
        "score = pretrained_model1_2.evaluate(x_val2, y_val2)\n",
        "print(\"Accuracy on val set: \", score[1])\n",
        "\n",
        "# save the model to disk\n",
        "filename = 'pretrained_model1_2.sav'\n",
        "pickle.dump(pretrained_model1_2, open(filename, 'wb'))"
      ]
    },
    {
      "cell_type": "markdown",
      "metadata": {
        "id": "FDAB6DC5cn6t"
      },
      "source": [
        "#####Same approach here"
      ]
    },
    {
      "cell_type": "code",
      "execution_count": null,
      "metadata": {
        "colab": {
          "base_uri": "https://localhost:8080/"
        },
        "id": "nW3Xt7BCa7ZH",
        "outputId": "9eea3564-4cdc-4c1d-c2b0-939b2b17f0b9"
      },
      "outputs": [
        {
          "name": "stdout",
          "output_type": "stream",
          "text": [
            "229/229 [==============================] - 5s 21ms/step - loss: 1.1142 - accuracy: 0.6308 - categorical_crossentropy: 1.1142\n",
            "Accuracy on the normal val set:  0.6307671070098877\n"
          ]
        }
      ],
      "source": [
        "pretrained_model1_2 = pickle.load(open('pretrained_model1_2.sav', 'rb'))\n",
        "score = pretrained_model1_2.evaluate(x_val, y_val)\n",
        "print(\"Accuracy on the normal val set: \", score[1])"
      ]
    },
    {
      "cell_type": "markdown",
      "metadata": {
        "id": "c7A-Xyi5dK7q"
      },
      "source": [
        "####On rotated images"
      ]
    },
    {
      "cell_type": "code",
      "execution_count": null,
      "metadata": {
        "colab": {
          "base_uri": "https://localhost:8080/"
        },
        "id": "xfnTYDMkshud",
        "outputId": "2fa350ac-1f31-49de-b985-e7323e1a0ce3"
      },
      "outputs": [
        {
          "name": "stdout",
          "output_type": "stream",
          "text": [
            "Epoch 1/16\n",
            "3606/3606 [==============================] - 305s 84ms/step - loss: 1.2832 - accuracy: 0.5434 - categorical_crossentropy: 1.2832 - val_loss: 0.6518 - val_accuracy: 0.7739 - val_categorical_crossentropy: 0.6518\n",
            "Epoch 2/16\n",
            "3606/3606 [==============================] - 300s 83ms/step - loss: 0.5691 - accuracy: 0.8042 - categorical_crossentropy: 0.5691 - val_loss: 0.5265 - val_accuracy: 0.8184 - val_categorical_crossentropy: 0.5265\n",
            "Epoch 3/16\n",
            "3606/3606 [==============================] - 308s 86ms/step - loss: 0.4951 - accuracy: 0.8279 - categorical_crossentropy: 0.4951 - val_loss: 0.4984 - val_accuracy: 0.8283 - val_categorical_crossentropy: 0.4984\n",
            "Epoch 4/16\n",
            "3606/3606 [==============================] - 300s 83ms/step - loss: 0.4611 - accuracy: 0.8394 - categorical_crossentropy: 0.4611 - val_loss: 0.4780 - val_accuracy: 0.8347 - val_categorical_crossentropy: 0.4780\n",
            "Epoch 5/16\n",
            "3606/3606 [==============================] - 300s 83ms/step - loss: 0.4405 - accuracy: 0.8463 - categorical_crossentropy: 0.4405 - val_loss: 0.4614 - val_accuracy: 0.8308 - val_categorical_crossentropy: 0.4614\n",
            "Epoch 6/16\n",
            "3606/3606 [==============================] - 300s 83ms/step - loss: 0.4267 - accuracy: 0.8512 - categorical_crossentropy: 0.4267 - val_loss: 0.4645 - val_accuracy: 0.8416 - val_categorical_crossentropy: 0.4645\n",
            "Epoch 7/16\n",
            "3606/3606 [==============================] - 299s 83ms/step - loss: 0.4130 - accuracy: 0.8555 - categorical_crossentropy: 0.4130 - val_loss: 0.4604 - val_accuracy: 0.8450 - val_categorical_crossentropy: 0.4604\n",
            "Epoch 8/16\n",
            "3606/3606 [==============================] - 300s 83ms/step - loss: 0.4627 - accuracy: 0.8409 - categorical_crossentropy: 0.4627 - val_loss: 0.4762 - val_accuracy: 0.8401 - val_categorical_crossentropy: 0.4762\n",
            "Epoch 9/16\n",
            "3606/3606 [==============================] - 300s 83ms/step - loss: 0.4088 - accuracy: 0.8583 - categorical_crossentropy: 0.4088 - val_loss: 0.5096 - val_accuracy: 0.8344 - val_categorical_crossentropy: 0.5096\n",
            "Epoch 10/16\n",
            "3606/3606 [==============================] - 300s 83ms/step - loss: 0.6974 - accuracy: 0.7703 - categorical_crossentropy: 0.6974 - val_loss: 0.5000 - val_accuracy: 0.8304 - val_categorical_crossentropy: 0.5000\n",
            "Epoch 11/16\n",
            "3606/3606 [==============================] - 300s 83ms/step - loss: 0.4402 - accuracy: 0.8475 - categorical_crossentropy: 0.4402 - val_loss: 0.4491 - val_accuracy: 0.8470 - val_categorical_crossentropy: 0.4491\n",
            "Epoch 12/16\n",
            "3606/3606 [==============================] - 300s 83ms/step - loss: 0.4882 - accuracy: 0.8328 - categorical_crossentropy: 0.4882 - val_loss: 0.5153 - val_accuracy: 0.8298 - val_categorical_crossentropy: 0.5153\n",
            "Epoch 13/16\n",
            "3606/3606 [==============================] - 300s 83ms/step - loss: 1.7700 - accuracy: 0.3611 - categorical_crossentropy: 1.7700 - val_loss: 2.2351 - val_accuracy: 0.1913 - val_categorical_crossentropy: 2.2351\n",
            "Epoch 14/16\n",
            "3606/3606 [==============================] - 298s 83ms/step - loss: 2.2368 - accuracy: 0.1888 - categorical_crossentropy: 2.2368 - val_loss: 2.2350 - val_accuracy: 0.1913 - val_categorical_crossentropy: 2.2350\n",
            "Epoch 15/16\n",
            "3606/3606 [==============================] - 298s 83ms/step - loss: 2.2368 - accuracy: 0.1888 - categorical_crossentropy: 2.2368 - val_loss: 2.2349 - val_accuracy: 0.1913 - val_categorical_crossentropy: 2.2349\n",
            "Epoch 16/16\n",
            "3606/3606 [==============================] - 299s 83ms/step - loss: 2.2368 - accuracy: 0.1888 - categorical_crossentropy: 2.2368 - val_loss: 2.2351 - val_accuracy: 0.1913 - val_categorical_crossentropy: 2.2351\n",
            "916/916 [==============================] - 19s 20ms/step - loss: 2.2362 - accuracy: 0.1902 - categorical_crossentropy: 2.2362\n",
            "Accuracy on val set:  0.1901853084564209\n",
            "INFO:tensorflow:Assets written to: ram://ffa3b527-9c78-470b-849d-ea0e171a2708/assets\n"
          ]
        }
      ],
      "source": [
        "pretrained_model1_3 = Model(inputs=keras_input, outputs=My_vgg)\n",
        "pretrained_model1_3.compile(loss='categorical_crossentropy', optimizer='adam', metrics=['accuracy', \"categorical_crossentropy\" ])\n",
        "\n",
        "# Train the model using own data  x_train,x_val,y_train,y_val \n",
        "history1 = pretrained_model1_3.fit(x_train3, y_train3  ,batch_size=64 , epochs=16 ,validation_split = 0.125 )\n",
        "\n",
        "# Evaluate the model\n",
        "score = pretrained_model1_3.evaluate(x_val3, y_val3)\n",
        "print(\"Accuracy on val set: \", score[1])\n",
        "\n",
        "# save the model to disk\n",
        "filename = 'pretrained_model1_3.sav'\n",
        "pickle.dump(pretrained_model1_3, open(filename, 'wb'))"
      ]
    },
    {
      "cell_type": "code",
      "execution_count": null,
      "metadata": {
        "colab": {
          "base_uri": "https://localhost:8080/"
        },
        "id": "ITLMCwLNeAe1",
        "outputId": "dad73683-d16f-43d9-f30b-5279b9b8cfb9"
      },
      "outputs": [
        {
          "name": "stdout",
          "output_type": "stream",
          "text": [
            "229/229 [==============================] - 5s 20ms/step - loss: 2.2240 - accuracy: 0.1994 - categorical_crossentropy: 2.2240\n",
            "Accuracy on the normal val set:  0.19942669570446014\n"
          ]
        }
      ],
      "source": [
        "pretrained_model1_3 = pickle.load(open('pretrained_model1_3.sav', 'rb'))\n",
        "score = pretrained_model1_3.evaluate(x_val, y_val)\n",
        "print(\"Accuracy on the normal val set: \", score[1])"
      ]
    },
    {
      "cell_type": "code",
      "execution_count": null,
      "metadata": {
        "colab": {
          "base_uri": "https://localhost:8080/"
        },
        "id": "0KLKW1LheDtO",
        "outputId": "f223b4d5-52b4-479b-89fa-4ef88312d28c"
      },
      "outputs": [
        {
          "name": "stdout",
          "output_type": "stream",
          "text": [
            "229/229 [==============================] - 5s 20ms/step - loss: 2.2240 - accuracy: 0.1994 - categorical_crossentropy: 2.2240\n",
            "Accuracy on the thresholded val set:  0.19942669570446014\n"
          ]
        }
      ],
      "source": [
        "pretrained_model1_3 = pickle.load(open('pretrained_model1_3.sav', 'rb'))\n",
        "score = pretrained_model1_3.evaluate(x_val2, y_val2)\n",
        "print(\"Accuracy on the thresholded val set: \", score[1])"
      ]
    },
    {
      "cell_type": "markdown",
      "metadata": {
        "id": "DjTLUKWE00lD"
      },
      "source": [
        "####The model that is trained with the thresholded images gave the best result on training data. However, that model failed to get good accuracy results both on the normal and the thresholded validation data. The validation accuracy was better for the model that fitted on the normal images. The model that fitted on the thresholded images has overfitted to the training data."
      ]
    },
    {
      "cell_type": "markdown",
      "metadata": {
        "id": "TONd_pfD04OZ"
      },
      "source": [
        "###VGG19"
      ]
    },
    {
      "cell_type": "code",
      "execution_count": 23,
      "metadata": {
        "colab": {
          "base_uri": "https://localhost:8080/"
        },
        "id": "pr8aISkygeC6",
        "outputId": "6a5f7c50-b690-4210-de70-af6ded77e9dd"
      },
      "outputs": [
        {
          "name": "stdout",
          "output_type": "stream",
          "text": [
            "(32, 32, 3)\n",
            "Epoch 1/20\n",
            "515/515 [==============================] - 39s 71ms/step - loss: 2.1024 - accuracy: 0.2512 - categorical_crossentropy: 2.1024 - val_loss: 1.5695 - val_accuracy: 0.4302 - val_categorical_crossentropy: 1.5695\n",
            "Epoch 2/20\n",
            "515/515 [==============================] - 37s 72ms/step - loss: 1.3749 - accuracy: 0.4990 - categorical_crossentropy: 1.3749 - val_loss: 0.8456 - val_accuracy: 0.7098 - val_categorical_crossentropy: 0.8456\n",
            "Epoch 3/20\n",
            "515/515 [==============================] - 37s 72ms/step - loss: 0.8155 - accuracy: 0.7418 - categorical_crossentropy: 0.8155 - val_loss: 0.4945 - val_accuracy: 0.8619 - val_categorical_crossentropy: 0.4945\n",
            "Epoch 4/20\n",
            "515/515 [==============================] - 38s 74ms/step - loss: 0.5302 - accuracy: 0.8511 - categorical_crossentropy: 0.5302 - val_loss: 0.3841 - val_accuracy: 0.8946 - val_categorical_crossentropy: 0.3841\n",
            "Epoch 5/20\n",
            "515/515 [==============================] - 37s 71ms/step - loss: 0.4901 - accuracy: 0.8650 - categorical_crossentropy: 0.4901 - val_loss: 0.3765 - val_accuracy: 0.9004 - val_categorical_crossentropy: 0.3765\n",
            "Epoch 6/20\n",
            "515/515 [==============================] - 34s 67ms/step - loss: 0.4085 - accuracy: 0.8900 - categorical_crossentropy: 0.4085 - val_loss: 0.2916 - val_accuracy: 0.9223 - val_categorical_crossentropy: 0.2916\n",
            "Epoch 7/20\n",
            "515/515 [==============================] - 36s 69ms/step - loss: 0.3810 - accuracy: 0.8991 - categorical_crossentropy: 0.3810 - val_loss: 0.3074 - val_accuracy: 0.9259 - val_categorical_crossentropy: 0.3074\n",
            "Epoch 8/20\n",
            "515/515 [==============================] - 37s 72ms/step - loss: 0.3765 - accuracy: 0.8995 - categorical_crossentropy: 0.3765 - val_loss: 0.2947 - val_accuracy: 0.9234 - val_categorical_crossentropy: 0.2947\n",
            "Epoch 9/20\n",
            "515/515 [==============================] - 38s 73ms/step - loss: 0.3415 - accuracy: 0.9102 - categorical_crossentropy: 0.3415 - val_loss: 0.2903 - val_accuracy: 0.9285 - val_categorical_crossentropy: 0.2903\n",
            "Epoch 10/20\n",
            "515/515 [==============================] - 36s 69ms/step - loss: 0.3449 - accuracy: 0.9104 - categorical_crossentropy: 0.3449 - val_loss: 0.2810 - val_accuracy: 0.9286 - val_categorical_crossentropy: 0.2810\n",
            "Epoch 11/20\n",
            "515/515 [==============================] - 38s 73ms/step - loss: 0.3277 - accuracy: 0.9119 - categorical_crossentropy: 0.3277 - val_loss: 0.2832 - val_accuracy: 0.9263 - val_categorical_crossentropy: 0.2832\n",
            "Epoch 12/20\n",
            "515/515 [==============================] - 38s 73ms/step - loss: 0.3270 - accuracy: 0.9145 - categorical_crossentropy: 0.3270 - val_loss: 0.2606 - val_accuracy: 0.9304 - val_categorical_crossentropy: 0.2606\n",
            "Epoch 13/20\n",
            "515/515 [==============================] - 36s 70ms/step - loss: 0.3174 - accuracy: 0.9168 - categorical_crossentropy: 0.3174 - val_loss: 0.3070 - val_accuracy: 0.9178 - val_categorical_crossentropy: 0.3070\n",
            "Epoch 14/20\n",
            "515/515 [==============================] - 35s 67ms/step - loss: 0.3258 - accuracy: 0.9150 - categorical_crossentropy: 0.3258 - val_loss: 0.2563 - val_accuracy: 0.9297 - val_categorical_crossentropy: 0.2563\n",
            "Epoch 15/20\n",
            "515/515 [==============================] - 35s 67ms/step - loss: 0.3070 - accuracy: 0.9208 - categorical_crossentropy: 0.3070 - val_loss: 0.2618 - val_accuracy: 0.9333 - val_categorical_crossentropy: 0.2618\n",
            "Epoch 16/20\n",
            "515/515 [==============================] - 37s 72ms/step - loss: 0.2965 - accuracy: 0.9221 - categorical_crossentropy: 0.2965 - val_loss: 0.2467 - val_accuracy: 0.9383 - val_categorical_crossentropy: 0.2467\n",
            "Epoch 17/20\n",
            "515/515 [==============================] - 38s 73ms/step - loss: 0.2938 - accuracy: 0.9224 - categorical_crossentropy: 0.2938 - val_loss: 0.2622 - val_accuracy: 0.9391 - val_categorical_crossentropy: 0.2622\n",
            "Epoch 18/20\n",
            "515/515 [==============================] - 38s 73ms/step - loss: 0.2919 - accuracy: 0.9234 - categorical_crossentropy: 0.2919 - val_loss: 0.2608 - val_accuracy: 0.9327 - val_categorical_crossentropy: 0.2608\n",
            "Epoch 19/20\n",
            "515/515 [==============================] - 38s 73ms/step - loss: 0.2882 - accuracy: 0.9256 - categorical_crossentropy: 0.2882 - val_loss: 0.2869 - val_accuracy: 0.9244 - val_categorical_crossentropy: 0.2869\n",
            "Epoch 20/20\n",
            "515/515 [==============================] - 38s 73ms/step - loss: 0.3022 - accuracy: 0.9202 - categorical_crossentropy: 0.3022 - val_loss: 0.2380 - val_accuracy: 0.9408 - val_categorical_crossentropy: 0.2380\n",
            "229/229 [==============================] - 3s 12ms/step - loss: 0.2380 - accuracy: 0.9408 - categorical_crossentropy: 0.2380\n",
            "Accuracy on val set:  0.9407589435577393\n"
          ]
        }
      ],
      "source": [
        "# Train your own model with your own choice of parameters, and pretrained model \n",
        "\n",
        "img_shape_sv =  (32, 32, 3)\n",
        "\n",
        "print(img_shape_sv)\n",
        "model_vgg_19 =tf.keras.applications.VGG19( weights='imagenet', include_top=False, input_shape=img_shape_sv  )\n",
        "#model_vgg_conv.summary()\n",
        "for layer in model_vgg_19.layers:\n",
        "  layer.trainable = True\n",
        "\n",
        "\n",
        "#Create your own input format\n",
        "keras_input = Input(shape=img_shape_sv, name = 'image_input')\n",
        "\n",
        "#Use the generated model\n",
        "output_vgg_conv19 = model_vgg_19(keras_input)\n",
        "\n",
        "# Add 3 fully-connected layers \n",
        "My_vgg = Flatten(name='flatten')(output_vgg_conv19)\n",
        "My_vgg = Dense(512 , activation='relu', name='fc0')(My_vgg)\n",
        "My_vgg = Dense(128 , activation='relu', name='fc1')(My_vgg)\n",
        "My_vgg = Dense(64 ,activation='relu', name='fc2')(My_vgg)\n",
        "My_vgg = Dense(10, activation='softmax' , name='predictions')(My_vgg)\n",
        "\n",
        "#Create your own modelg\n",
        "pretrained_model2 = Model(inputs=keras_input, outputs=My_vgg)\n",
        "pretrained_model2.compile(loss='categorical_crossentropy', optimizer='adam', metrics=['accuracy', \"categorical_crossentropy\" ])\n",
        "\n",
        "# Train the model using own data  x_train,x_val,y_train,y_val \n",
        "#history = pretrained_model2.fit(x_train, y_train  ,batch_size=128 , epochs=16 ,validation_split = 0.125 )\n",
        "H = pretrained_model2.fit(augmenter.flow(x_train, y_train, batch_size=128),validation_data=(x_val, y_val), steps_per_epoch=len(x_train) // 128, epochs=20)\n",
        "\n",
        "# Evaluate the model\n",
        "score = pretrained_model2.evaluate(x_val, y_val)\n",
        "print(\"Accuracy on val set: \", score[1])\n",
        "\n",
        "# save the model to disk\n",
        "filename = 'pretrained_model2.sav'\n",
        "#pickle.dump(pretrained_model2, open(filename, 'wb'))"
      ]
    },
    {
      "cell_type": "markdown",
      "metadata": {
        "id": "F22JFwRU09Dm"
      },
      "source": [
        "###ResNet"
      ]
    },
    {
      "cell_type": "code",
      "execution_count": 25,
      "metadata": {
        "colab": {
          "base_uri": "https://localhost:8080/"
        },
        "id": "Eh7OsaJ-geC7",
        "outputId": "78ee5d41-f101-4818-f1c8-e72837f753c9"
      },
      "outputs": [
        {
          "name": "stdout",
          "output_type": "stream",
          "text": [
            "(32, 32, 3)\n",
            "Epoch 1/20\n",
            "257/257 [==============================] - 67s 229ms/step - loss: 1.0679 - accuracy: 0.6494 - categorical_crossentropy: 1.0679 - val_loss: 1.0010 - val_accuracy: 0.7536 - val_categorical_crossentropy: 1.0010\n",
            "Epoch 2/20\n",
            "257/257 [==============================] - 57s 221ms/step - loss: 0.4620 - accuracy: 0.8613 - categorical_crossentropy: 0.4620 - val_loss: 0.9492 - val_accuracy: 0.7546 - val_categorical_crossentropy: 0.9492\n",
            "Epoch 3/20\n",
            "257/257 [==============================] - 57s 220ms/step - loss: 0.3840 - accuracy: 0.8857 - categorical_crossentropy: 0.3840 - val_loss: 0.5914 - val_accuracy: 0.8191 - val_categorical_crossentropy: 0.5914\n",
            "Epoch 4/20\n",
            "257/257 [==============================] - 56s 218ms/step - loss: 0.3525 - accuracy: 0.8953 - categorical_crossentropy: 0.3525 - val_loss: 0.3596 - val_accuracy: 0.8933 - val_categorical_crossentropy: 0.3596\n",
            "Epoch 5/20\n",
            "257/257 [==============================] - 55s 212ms/step - loss: 0.3184 - accuracy: 0.9068 - categorical_crossentropy: 0.3184 - val_loss: 0.5251 - val_accuracy: 0.8441 - val_categorical_crossentropy: 0.5251\n",
            "Epoch 6/20\n",
            "257/257 [==============================] - 54s 209ms/step - loss: 0.3030 - accuracy: 0.9116 - categorical_crossentropy: 0.3030 - val_loss: 0.3854 - val_accuracy: 0.8868 - val_categorical_crossentropy: 0.3854\n",
            "Epoch 7/20\n",
            "257/257 [==============================] - 54s 210ms/step - loss: 0.2891 - accuracy: 0.9147 - categorical_crossentropy: 0.2891 - val_loss: 0.4068 - val_accuracy: 0.8862 - val_categorical_crossentropy: 0.4068\n",
            "Epoch 8/20\n",
            "257/257 [==============================] - 53s 208ms/step - loss: 0.2846 - accuracy: 0.9177 - categorical_crossentropy: 0.2846 - val_loss: 0.3314 - val_accuracy: 0.8948 - val_categorical_crossentropy: 0.3314\n",
            "Epoch 9/20\n",
            "257/257 [==============================] - 53s 207ms/step - loss: 0.2689 - accuracy: 0.9228 - categorical_crossentropy: 0.2689 - val_loss: 0.3581 - val_accuracy: 0.8978 - val_categorical_crossentropy: 0.3581\n",
            "Epoch 10/20\n",
            "257/257 [==============================] - 56s 218ms/step - loss: 0.2766 - accuracy: 0.9193 - categorical_crossentropy: 0.2766 - val_loss: 220.3868 - val_accuracy: 0.4148 - val_categorical_crossentropy: 220.3868\n",
            "Epoch 11/20\n",
            "257/257 [==============================] - 52s 201ms/step - loss: 0.2648 - accuracy: 0.9233 - categorical_crossentropy: 0.2648 - val_loss: 0.2747 - val_accuracy: 0.9247 - val_categorical_crossentropy: 0.2747\n",
            "Epoch 12/20\n",
            "257/257 [==============================] - 52s 203ms/step - loss: 0.3437 - accuracy: 0.8978 - categorical_crossentropy: 0.3437 - val_loss: 1.3740 - val_accuracy: 0.5824 - val_categorical_crossentropy: 1.3740\n",
            "Epoch 13/20\n",
            "257/257 [==============================] - 51s 199ms/step - loss: 0.3376 - accuracy: 0.9012 - categorical_crossentropy: 0.3376 - val_loss: 0.2624 - val_accuracy: 0.9249 - val_categorical_crossentropy: 0.2624\n",
            "Epoch 14/20\n",
            "257/257 [==============================] - 52s 200ms/step - loss: 0.2603 - accuracy: 0.9225 - categorical_crossentropy: 0.2603 - val_loss: 0.2792 - val_accuracy: 0.9203 - val_categorical_crossentropy: 0.2792\n",
            "Epoch 15/20\n",
            "257/257 [==============================] - 52s 203ms/step - loss: 0.2361 - accuracy: 0.9314 - categorical_crossentropy: 0.2361 - val_loss: 0.2726 - val_accuracy: 0.9207 - val_categorical_crossentropy: 0.2726\n",
            "Epoch 16/20\n",
            "257/257 [==============================] - 53s 205ms/step - loss: 0.2403 - accuracy: 0.9301 - categorical_crossentropy: 0.2403 - val_loss: 0.2850 - val_accuracy: 0.9216 - val_categorical_crossentropy: 0.2850\n",
            "Epoch 17/20\n",
            "257/257 [==============================] - 54s 210ms/step - loss: 0.2140 - accuracy: 0.9381 - categorical_crossentropy: 0.2140 - val_loss: 0.2381 - val_accuracy: 0.9343 - val_categorical_crossentropy: 0.2381\n",
            "Epoch 18/20\n",
            "257/257 [==============================] - 51s 199ms/step - loss: 0.2034 - accuracy: 0.9413 - categorical_crossentropy: 0.2034 - val_loss: 0.3702 - val_accuracy: 0.9054 - val_categorical_crossentropy: 0.3702\n",
            "Epoch 19/20\n",
            "257/257 [==============================] - 50s 195ms/step - loss: 0.2042 - accuracy: 0.9413 - categorical_crossentropy: 0.2042 - val_loss: 0.3298 - val_accuracy: 0.9058 - val_categorical_crossentropy: 0.3298\n",
            "Epoch 20/20\n",
            "257/257 [==============================] - 51s 196ms/step - loss: 0.2305 - accuracy: 0.9327 - categorical_crossentropy: 0.2305 - val_loss: 0.5409 - val_accuracy: 0.9223 - val_categorical_crossentropy: 0.5409\n",
            "229/229 [==============================] - 5s 22ms/step - loss: 0.5409 - accuracy: 0.9223 - categorical_crossentropy: 0.5409\n",
            "Accuracy on val set:  0.9223313927650452\n"
          ]
        }
      ],
      "source": [
        "# Train your own model with your own choice of parameters, and pretrained model \n",
        "img_shape =  (32, 32, 3)\n",
        "\n",
        "print(img_shape_sv)\n",
        "model_ResNet = tf.keras.applications.ResNet101(    include_top=False,    weights=\"imagenet\",\n",
        "    input_tensor=None,\n",
        "    input_shape=img_shape,\n",
        "    pooling=None, \n",
        ")\n",
        "#model_vgg_conv.summary()\n",
        "for layer in model_ResNet.layers:\n",
        "  layer.trainable = True\n",
        "\n",
        "\n",
        "#Create your own input format\n",
        "keras_input = Input(shape=img_shape, name = 'image_input')\n",
        "\n",
        "#Use the generated model\n",
        "output_ResNet = model_ResNet(keras_input)\n",
        "\n",
        "# Add 3 fully-connected layers \n",
        "My_vgg = Flatten(name='flatten')(output_ResNet)\n",
        "My_vgg = Dense(1024 , activation='relu', name='fc0')(My_vgg)\n",
        "My_vgg = Dense(512 , activation='relu', name='fc1')(My_vgg)\n",
        "My_vgg = Dense(128 ,activation='relu', name='fc2')(My_vgg)\n",
        "My_vgg = Dense(10, activation='softmax' , name='predictions')(My_vgg)\n",
        "\n",
        "#Create your own modelg\n",
        "pretrained_model3 = Model(inputs=keras_input, outputs=My_vgg)\n",
        "pretrained_model3.compile(loss='categorical_crossentropy', optimizer='adam', metrics=['accuracy', \"categorical_crossentropy\" ])\n",
        "\n",
        "# Train the model using own data  x_train,x_val,y_train,y_val \n",
        "#history = pretrained_model3.fit(x_train, y_train, batch_size=128, epochs=16 , validation_split = 0.125 )\n",
        "H = pretrained_model3.fit(augmenter.flow(x_train, y_train, batch_size=256),validation_data=(x_val, y_val), steps_per_epoch=len(x_train) // 256, epochs=20)\n",
        "\n",
        "# Evaluate the model\n",
        "score = pretrained_model3.evaluate(x_val, y_val)\n",
        "print(\"Accuracy on val set: \", score[1])\n",
        "\n",
        "# save the model to disk\n",
        "filename = 'pretrained_model3.sav'\n",
        "#pickle.dump(pretrained_model3, open(filename, 'wb'))"
      ]
    },
    {
      "cell_type": "markdown",
      "metadata": {
        "id": "G0BjmhZr1DhM"
      },
      "source": [
        "##Predictions"
      ]
    },
    {
      "cell_type": "code",
      "execution_count": null,
      "metadata": {
        "id": "gtkUjapYt0bR"
      },
      "outputs": [],
      "source": [
        "# load the model from disk\n",
        "#pretrained_model1 = pickle.load(open('pretrained_model1.sav', 'rb'))\n",
        "#pretrained_model2 = pickle.load(open('pretrained_model2.sav', 'rb'))\n",
        "#pretrained_model3 = pickle.load(open('pretrained_model3.sav', 'rb'))"
      ]
    },
    {
      "cell_type": "code",
      "execution_count": 26,
      "metadata": {
        "id": "qA4f_1xXgeC8"
      },
      "outputs": [],
      "source": [
        "predictions_1 = pretrained_model1.predict(all_test_images_fix)"
      ]
    },
    {
      "cell_type": "code",
      "execution_count": 27,
      "metadata": {
        "id": "F1yZy0AVgeC8"
      },
      "outputs": [],
      "source": [
        "predictions_2 = pretrained_model2.predict(all_test_images_fix)"
      ]
    },
    {
      "cell_type": "code",
      "execution_count": 28,
      "metadata": {
        "colab": {
          "base_uri": "https://localhost:8080/"
        },
        "id": "sHgcszK3geC8",
        "outputId": "c7a7f224-9e4d-401f-90a3-7caf5f3f90da"
      },
      "outputs": [
        {
          "name": "stdout",
          "output_type": "stream",
          "text": [
            "[[1.3745698e-03 9.7828973e-03 1.6577318e-02 ... 4.3624975e-03\n",
            "  2.2610172e-03 6.5947175e-03]\n",
            " [2.2952561e-06 3.9539191e-05 9.9967170e-01 ... 2.1008170e-06\n",
            "  9.1085340e-06 4.7562462e-05]\n",
            " [4.5765346e-04 9.9703217e-01 2.7410657e-04 ... 2.4489369e-04\n",
            "  1.3820537e-04 1.0810900e-04]\n",
            " ...\n",
            " [1.3884521e-03 2.7587060e-03 6.4793434e-03 ... 9.8483723e-01\n",
            "  1.0119583e-04 1.8814930e-03]\n",
            " [3.0086779e-03 2.1935666e-03 1.1521804e-03 ... 1.4440529e-04\n",
            "  4.7564458e-02 5.1912013e-04]\n",
            " [8.3039032e-04 5.3910860e-03 1.7189187e-03 ... 9.8880577e-01\n",
            "  6.5630513e-05 1.7356836e-03]]\n"
          ]
        }
      ],
      "source": [
        "predictions_3 = pretrained_model3.predict(all_test_images_fix)\n",
        "print(predictions_3)"
      ]
    },
    {
      "cell_type": "markdown",
      "metadata": {
        "id": "YydZbNkr2LQE"
      },
      "source": [
        "##Ensemble/Blend"
      ]
    },
    {
      "cell_type": "code",
      "execution_count": 29,
      "metadata": {
        "id": "0dmtTtddgeC9"
      },
      "outputs": [],
      "source": [
        "blend_pred=[]\n",
        "for i,j,k in zip (predictions_1 , predictions_2 ,predictions_3):\n",
        "    tmp_list=[]\n",
        "    for x, y ,z in zip(i,j,k):\n",
        "        tmp_list.append( x * y * z )\n",
        "    blend_pred.append( tmp_list  )\n",
        "#print(blend_pred)"
      ]
    },
    {
      "cell_type": "markdown",
      "metadata": {
        "id": "1GKJiQI92bvh"
      },
      "source": [
        "##Write predictions to a file"
      ]
    },
    {
      "cell_type": "code",
      "execution_count": 30,
      "metadata": {
        "id": "T97XmEDLgeC9"
      },
      "outputs": [],
      "source": [
        "prediction_subition_ensamble_string=\"Id,Prediction\\n\"\n",
        "for S_id , prediction in enumerate(blend_pred):    \n",
        "    prediction_subition_ensamble_string += str(S_id) +\",\"+ ( \"10\"   if  str(np.argmax(prediction)) ==\"0\" else str(np.argmax(prediction)) )  + \"\\n\"\n",
        "\n",
        "\n",
        "#print(prediction_subition_ensamble_string)"
      ]
    },
    {
      "cell_type": "code",
      "execution_count": 31,
      "metadata": {
        "id": "SZv-AASXgeC9"
      },
      "outputs": [],
      "source": [
        "with open(\"SU_Group8_ens_final.csv\",\"w\") as file :\n",
        "    file.write(prediction_subition_ensamble_string)"
      ]
    },
    {
      "cell_type": "code",
      "execution_count": null,
      "metadata": {
        "id": "wY8HkqYOgeC-"
      },
      "outputs": [],
      "source": [
        "prediction_subition_string=\"Id,Prediction\\n\"\n",
        "for S_id , prediction in enumerate(predictions_1):    \n",
        "    prediction_subition_string += str(S_id) +\",\"+ ( \"10\"   if  str(np.argmax(prediction)) ==\"0\" else str(np.argmax(prediction)) )  + \"\\n\"\n",
        "\n",
        "\n",
        "#print(prediction_subition_string)"
      ]
    },
    {
      "cell_type": "code",
      "execution_count": null,
      "metadata": {
        "id": "InbQqdyhgeC-"
      },
      "outputs": [],
      "source": [
        "with open(\"SU_Group8_p2.csv\",\"w\") as file :\n",
        "    file.write(prediction_subition_string)"
      ]
    },
    {
      "cell_type": "markdown",
      "metadata": {
        "id": "qSVBXrNfCNqm"
      },
      "source": [
        "###Decision Tree"
      ]
    },
    {
      "cell_type": "code",
      "execution_count": null,
      "metadata": {
        "colab": {
          "base_uri": "https://localhost:8080/"
        },
        "id": "8_oWXjGqCRi-",
        "outputId": "dd89cf64-4a31-4cc4-c195-71351882c668"
      },
      "outputs": [
        {
          "name": "stdout",
          "output_type": "stream",
          "text": [
            "(65931, 3072)\n"
          ]
        }
      ],
      "source": [
        "x_train_flat = x_train2.reshape(x_train2.shape[0],-1)\n",
        "x_val_flat = x_val2.reshape(x_val2.shape[0],-1)\n",
        "\n",
        "print(x_train_flat.shape)"
      ]
    },
    {
      "cell_type": "code",
      "execution_count": null,
      "metadata": {
        "id": "ZC8lGnN5CS5G"
      },
      "outputs": [],
      "source": [
        "# Train DT classifiers\n",
        "from sklearn.tree import DecisionTreeClassifier\n",
        "alldt={}\n",
        "depth_list=[1,10,20,50,100]\n",
        "split_list= [2,10,100,200,1000]\n",
        "for depth in depth_list:  \n",
        "    for split in split_list:\n",
        "        alldt[(depth,split)] = DecisionTreeClassifier(max_depth=depth , min_samples_split=split ,random_state=42)"
      ]
    },
    {
      "cell_type": "code",
      "execution_count": null,
      "metadata": {
        "id": "dUvqCf6OCU-9"
      },
      "outputs": [],
      "source": [
        "#takes ~20minutes made this way because was curiouse about the performance \n",
        "for depth in depth_list:  \n",
        "    for split in split_list:\n",
        "        alldt[(depth,split)].fit(x_train_flat,y_train2)"
      ]
    },
    {
      "cell_type": "code",
      "execution_count": null,
      "metadata": {
        "colab": {
          "base_uri": "https://localhost:8080/"
        },
        "id": "wl0DmJ_zCYMk",
        "outputId": "21b3320c-a5e1-4450-f16c-bc4d633d825a"
      },
      "outputs": [
        {
          "name": "stdout",
          "output_type": "stream",
          "text": [
            "The accuracy score of the dt with depth 1 and split 2 is:0.0\n",
            "The accuracy score of the dt with depth 1 and split 10 is:0.0\n",
            "The accuracy score of the dt with depth 1 and split 100 is:0.0\n",
            "The accuracy score of the dt with depth 1 and split 200 is:0.0\n",
            "The accuracy score of the dt with depth 1 and split 1000 is:0.0\n",
            "The accuracy score of the dt with depth 10 and split 2 is:0.47652197652197653\n",
            "The accuracy score of the dt with depth 10 and split 10 is:0.4761124761124761\n",
            "The accuracy score of the dt with depth 10 and split 100 is:0.4477204477204477\n",
            "The accuracy score of the dt with depth 10 and split 200 is:0.4107289107289107\n",
            "The accuracy score of the dt with depth 10 and split 1000 is:0.27245427245427245\n",
            "The accuracy score of the dt with depth 20 and split 2 is:0.5574665574665575\n",
            "The accuracy score of the dt with depth 20 and split 10 is:0.5326235326235326\n",
            "The accuracy score of the dt with depth 20 and split 100 is:0.4443079443079443\n",
            "The accuracy score of the dt with depth 20 and split 200 is:0.3983073983073983\n",
            "The accuracy score of the dt with depth 20 and split 1000 is:0.27122577122577124\n",
            "The accuracy score of the dt with depth 50 and split 2 is:0.5536445536445537\n",
            "The accuracy score of the dt with depth 50 and split 10 is:0.5253890253890254\n",
            "The accuracy score of the dt with depth 50 and split 100 is:0.4423969423969424\n",
            "The accuracy score of the dt with depth 50 and split 200 is:0.3974883974883975\n",
            "The accuracy score of the dt with depth 50 and split 1000 is:0.27122577122577124\n",
            "The accuracy score of the dt with depth 100 and split 2 is:0.5536445536445537\n",
            "The accuracy score of the dt with depth 100 and split 10 is:0.5253890253890254\n",
            "The accuracy score of the dt with depth 100 and split 100 is:0.4423969423969424\n",
            "The accuracy score of the dt with depth 100 and split 200 is:0.3974883974883975\n",
            "The accuracy score of the dt with depth 100 and split 1000 is:0.27122577122577124\n"
          ]
        }
      ],
      "source": [
        "from sklearn.metrics import accuracy_score\n",
        "accdict={}\n",
        "for depth in depth_list:  \n",
        "    for split in split_list:\n",
        "        acc = accuracy_score( y_val2,alldt[(depth,split)].predict(x_val_flat) )\n",
        "        print(\"The accuracy score of the dt with depth {} and split {} is:{}\".format(depth,split,acc ) )    \n",
        "        accdict[(depth,split)]=acc"
      ]
    },
    {
      "cell_type": "markdown",
      "metadata": {
        "id": "P8A9i8maCPC_"
      },
      "source": [
        "###kNN"
      ]
    },
    {
      "cell_type": "code",
      "execution_count": null,
      "metadata": {
        "colab": {
          "base_uri": "https://localhost:8080/"
        },
        "id": "gQXaztbPCad7",
        "outputId": "165d87e7-6d1e-4612-aa15-483180d3025a"
      },
      "outputs": [
        {
          "name": "stdout",
          "output_type": "stream",
          "text": [
            "The accuracy score of the knn with n=1 is:0.6274911274911275\n",
            "The accuracy score of the knn with n=2 is:0.46478296478296477\n",
            "The accuracy score of the knn with n=3 is:0.5977340977340977\n",
            "The accuracy score of the knn with n=5 is:0.5735735735735735\n",
            "The accuracy score of the knn with n=7 is:0.5586950586950586\n",
            "The accuracy score of the knn with n=25 is:0.47338247338247336\n"
          ]
        }
      ],
      "source": [
        "from sklearn.neighbors import KNeighborsClassifier\n",
        "n_lıst=[1 , 2 , 3 , 5 , 7 , 25] \n",
        "knn_list=[]\n",
        "for n in n_lıst:\n",
        "    knn_list.append(KNeighborsClassifier(n_neighbors=n,algorithm=\"brute\" ))\n",
        "\n",
        "for m in knn_list:\n",
        "    m.fit(x_train_flat,y_train2)\n",
        "\n",
        "for i,m in zip(n_lıst ,knn_list ):\n",
        "    acc= accuracy_score(y_val2,m.predict(x_val_flat) )\n",
        "    print(\"The accuracy score of the knn with n={} is:{}\".format( i,acc))"
      ]
    },
    {
      "cell_type": "code",
      "execution_count": null,
      "metadata": {
        "colab": {
          "base_uri": "https://localhost:8080/"
        },
        "id": "49Ob9HspCbEE",
        "outputId": "aace4337-04b1-41de-afa3-4cbcd7447dc0"
      },
      "outputs": [
        {
          "name": "stdout",
          "output_type": "stream",
          "text": [
            "The accuracy score of the knn with n=1 is:0.6274911274911275\n",
            "The accuracy score of the knn with n=3 is:0.5977340977340977\n",
            "The accuracy score of the knn with n=20 is:0.4651924651924652\n"
          ]
        }
      ],
      "source": [
        "from sklearn.neighbors import KNeighborsClassifier\n",
        "import sklearn\n",
        "#dist = sklearn.metrics.DistanceMetric.get_metric('euclidean')\n",
        "n_list=[1 , 3 , 20] \n",
        "knn_list2=[]\n",
        "for n in n_list:\n",
        "    knn_list2.append(KNeighborsClassifier(n_neighbors=n,algorithm=\"brute\" ,metric=\"hamming\" ))\n",
        "\n",
        "for m in knn_list2:\n",
        "    m.fit(x_train_flat,y_train2)\n",
        "\n",
        "for i,m in zip(n_list ,knn_list2 ):\n",
        "    acc= accuracy_score(y_val2,m.predict(x_val_flat) )\n",
        "    print(\"The accuracy score of the knn with n={} is:{}\".format( i,acc))"
      ]
    }
  ],
  "metadata": {
    "accelerator": "GPU",
    "colab": {
      "collapsed_sections": [],
      "name": "Term_2.ipynb",
      "provenance": []
    },
    "interpreter": {
      "hash": "2b14687f6fe1315d98da37efade879c09724cd1b8c15d76e7d77992256f84dc0"
    },
    "kernelspec": {
      "display_name": "Python 3.9.9 64-bit",
      "language": "python",
      "name": "python3"
    },
    "language_info": {
      "codemirror_mode": {
        "name": "ipython",
        "version": 3
      },
      "file_extension": ".py",
      "mimetype": "text/x-python",
      "name": "python",
      "nbconvert_exporter": "python",
      "pygments_lexer": "ipython3",
      "version": "3.9.9"
    }
  },
  "nbformat": 4,
  "nbformat_minor": 0
}
